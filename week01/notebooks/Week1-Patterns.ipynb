{
 "cells": [
  {
   "cell_type": "code",
   "execution_count": 2,
   "id": "8d928902-f20c-47ce-856e-71566b74bb93",
   "metadata": {},
   "outputs": [
    {
     "name": "stdout",
     "output_type": "stream",
     "text": [
      "Sequence 1: [2, 4, 6, 8, 10] - Matches Pattern 2n - even numbers, starting from n = 1\n",
      "Sequence 2: [1, 4, 9, 16, 25] - Matches Pattern n^2 - perfect squares, starting from n = 1\n",
      "Sequence 3: [3, 6, 12, 24, 48] - Matches Pattern 3 * 2^(n-1) - geometric, starting from n = 1\n",
      "Sequence 4: [6, 10, 15, 21] - Matches Pattern n(n+1)/2 - triangular numbers, starting from n = 3\n"
     ]
    }
   ],
   "source": [
    "sequences = [\n",
    "    [2, 4, 6, 8, 10],      # 2n\n",
    "    [1, 4, 9, 16, 25],     # n²\n",
    "    [3, 6, 12, 24, 48],    # 3×2^(n-1)\n",
    "    [6, 10, 15, 21]        # n(n+1)/2\n",
    "]\n",
    "\n",
    "def identify_known_pattern(seq):\n",
    "    def pattern1(n): return 2 * n\n",
    "    def pattern2(n): return n ** 2\n",
    "    def pattern3(n): return 3 * 2 ** (n - 1)\n",
    "    def pattern4(n): return n * (n + 1) // 2  # integer division\n",
    "\n",
    "    # This maps a descriptive name to each function. We’ll use this later to label the matching pattern.\n",
    "    patterns = {\n",
    "        \"Pattern 2n - even numbers\": pattern1,\n",
    "        \"Pattern n^2 - perfect squares\": pattern2,\n",
    "        \"Pattern 3 * 2^(n-1) - geometric\": pattern3,\n",
    "        \"Pattern n(n+1)/2 - triangular numbers\": pattern4,\n",
    "    }\n",
    "    \n",
    "    max_search_start = 100  # how far ahead we look for a match. We're assuming n could start anywhere from 1 to 99. \n",
    "\n",
    "    # Loop through each pattern\n",
    "    for name, func in patterns.items():\n",
    "        # For each pattern, try generating a slice of the pattern starting from n = start_n\n",
    "        for start_n in range(1, max_search_start):\n",
    "            generated = [func(start_n + i) for i in range(len(seq))] #list comprehension\n",
    "            # Compare this slice with the input seq\n",
    "            if generated == seq:\n",
    "                # If they match exactly, return a match and the value of n the match started at\n",
    "                return f\"Matches {name}, starting from n = {start_n}\"\n",
    "\n",
    "    # After trying all combinations, if none match, we conclude it doesn’t fit any known pattern.\n",
    "    return \"No matching pattern found\"\n",
    "\n",
    "for i, seq in enumerate(sequences): #tuple unpacking\n",
    "    pattern = identify_known_pattern(seq)\n",
    "    print(f\"Sequence {i+1}: {seq} - {pattern}\")\n"
   ]
  },
  {
   "cell_type": "markdown",
   "id": "1132f85d-3a40-47f2-be1e-77d041ac45ea",
   "metadata": {},
   "source": [
    "- Sequence 1: 2n → 2, 4, 6, ...\n",
    "- Sequence 2: Perfect squares → n²\n",
    "- Sequence 3: Doubles each time after multiplying by 3 → 3×2^(n-1)\n",
    "- Sequence 4: Triangular numbers → n(n+1)/2"
   ]
  }
 ],
 "metadata": {
  "kernelspec": {
   "display_name": "Python 3 (ipykernel)",
   "language": "python",
   "name": "python3"
  },
  "language_info": {
   "codemirror_mode": {
    "name": "ipython",
    "version": 3
   },
   "file_extension": ".py",
   "mimetype": "text/x-python",
   "name": "python",
   "nbconvert_exporter": "python",
   "pygments_lexer": "ipython3",
   "version": "3.11.13"
  }
 },
 "nbformat": 4,
 "nbformat_minor": 5
}
