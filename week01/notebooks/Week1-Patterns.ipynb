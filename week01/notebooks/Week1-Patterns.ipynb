{
 "cells": [
  {
   "cell_type": "code",
   "execution_count": 2,
   "id": "8d928902-f20c-47ce-856e-71566b74bb93",
   "metadata": {},
   "outputs": [
    {
     "name": "stdout",
     "output_type": "stream",
     "text": [
      "Sequence 1: [2, 4, 6, 8, 10]\n",
      "Sequence 2: [1, 4, 9, 16, 25]\n",
      "Sequence 3: [3, 6, 12, 24, 48]\n",
      "Sequence 4: [1, 3, 6, 10, 15]\n"
     ]
    }
   ],
   "source": [
    "sequences = [\n",
    "    [2, 4, 6, 8, 10],      # 2n\n",
    "    [1, 4, 9, 16, 25],     # n²\n",
    "    [3, 6, 12, 24, 48],    # 3×2^(n-1)\n",
    "    [1, 3, 6, 10, 15]      # n(n+1)/2\n",
    "]\n",
    "\n",
    "for i, seq in enumerate(sequences): #tuple unpacking\n",
    "    print(f\"Sequence {i+1}: {seq}\")"
   ]
  },
  {
   "cell_type": "markdown",
   "id": "1132f85d-3a40-47f2-be1e-77d041ac45ea",
   "metadata": {},
   "source": [
    "- Sequence 1: 2n → 2, 4, 6, ...\n",
    "- Sequence 2: Perfect squares → n²\n",
    "- Sequence 3: Doubles each time after multiplying by 3 → 3×2^(n-1)\n",
    "- Sequence 4: Triangular numbers → n(n+1)/2"
   ]
  }
 ],
 "metadata": {
  "kernelspec": {
   "display_name": "Python 3 (ipykernel)",
   "language": "python",
   "name": "python3"
  },
  "language_info": {
   "codemirror_mode": {
    "name": "ipython",
    "version": 3
   },
   "file_extension": ".py",
   "mimetype": "text/x-python",
   "name": "python",
   "nbconvert_exporter": "python",
   "pygments_lexer": "ipython3",
   "version": "3.11.13"
  }
 },
 "nbformat": 4,
 "nbformat_minor": 5
}
