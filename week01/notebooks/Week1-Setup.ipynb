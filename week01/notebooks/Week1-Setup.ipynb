{
 "cells": [
  {
   "cell_type": "code",
   "execution_count": null,
   "id": "a2bfcc16-061b-4fe3-86ef-0700bfc130ea",
   "metadata": {},
   "outputs": [],
   "source": [
    "## Install required libraries (only run once)\n",
    "import sys\n",
    "!{sys.executable} -m pip install numpy matplotlib sympy scipy"
   ]
  },
  {
   "cell_type": "code",
   "execution_count": null,
   "id": "e478017a-0533-4c67-92f4-bf0939a6fe54",
   "metadata": {},
   "outputs": [],
   "source": [
    "\n",
    "import numpy as np\n",
    "import matplotlib.pyplot as plt\n",
    "import sympy as sp\n",
    "from sympy import symbols, solve, diff, integrate\n",
    "import math\n",
    "import sys\n",
    "\n",
    "print(\"All libraries installed successfully!\")\n",
    "print(f\"NumPy version: {np.__version__}\")\n",
    "print(f\"Python version: {sys.version}\")\n"
   ]
  },
  {
   "cell_type": "markdown",
   "id": "87c5d643-ab0b-4bb2-ad2c-0553301d9243",
   "metadata": {},
   "source": [
    "## 🧠 Reflection – Mathematical Mindset\n",
    "\n",
    "Based on [3Blue1Brown’s video](https://www.youtube.com/watch?v=-bc9EWhmDZg):\n",
    "\n",
    "- Math is about **patterns and structure**, not just formulas.\n",
    "- Visual intuition often precedes formal proof.\n",
    "- It's okay to question basic assumptions.\n",
    "- Understanding is often built best through **examples**.\n"
   ]
  }
 ],
 "metadata": {
  "kernelspec": {
   "display_name": "Python 3 (ipykernel)",
   "language": "python",
   "name": "python3"
  },
  "language_info": {
   "codemirror_mode": {
    "name": "ipython",
    "version": 3
   },
   "file_extension": ".py",
   "mimetype": "text/x-python",
   "name": "python",
   "nbconvert_exporter": "python",
   "pygments_lexer": "ipython3",
   "version": "3.11.13"
  }
 },
 "nbformat": 4,
 "nbformat_minor": 5
}
